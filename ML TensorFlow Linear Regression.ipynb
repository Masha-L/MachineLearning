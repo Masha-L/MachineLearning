{
 "cells": [
  {
   "cell_type": "code",
   "execution_count": 1,
   "metadata": {},
   "outputs": [],
   "source": [
    "import tensorflow as tf\n",
    "import numpy as np\n",
    "import matplotlib.pyplot as plt\n",
    "tf.enable_eager_execution()"
   ]
  },
  {
   "cell_type": "code",
   "execution_count": 2,
   "metadata": {},
   "outputs": [],
   "source": [
    "m = 2\n",
    "b = 0.5\n",
    "x = np.linspace(0,4,100)\n",
    "y = m*x + b + np.random.randn(*x.shape)+0.2\n"
   ]
  },
  {
   "cell_type": "code",
   "execution_count": 3,
   "metadata": {},
   "outputs": [
    {
     "data": {
      "text/plain": [
       "<matplotlib.collections.PathCollection at 0xb40884a58>"
      ]
     },
     "execution_count": 3,
     "metadata": {},
     "output_type": "execute_result"
    },
    {
     "data": {
      "image/png": "[encoded data removed]",
      "text/plain": [
       "<Figure size 432x288 with 1 Axes>"
      ]
     },
     "metadata": {
      "needs_background": "light"
     },
     "output_type": "display_data"
    }
   ],
   "source": [
    "plt.scatter(x,y)"
   ]
  },
  {
   "cell_type": "code",
   "execution_count": 4,
   "metadata": {},
   "outputs": [],
   "source": [
    "class Model:\n",
    "    def __init__(self):\n",
    "        self.weight = tf.Variable(10.0)\n",
    "        self.bias = tf.Variable(10.0)\n",
    "    \n",
    "    def __call__(self, x):\n",
    "        return self.weight*x + self.bias"
   ]
  },
  {
   "cell_type": "code",
   "execution_count": 5,
   "metadata": {},
   "outputs": [],
   "source": [
    "def calculate_loss(y_actual, y_output):\n",
    "    return tf.reduce_mean(tf.square(y_actual - y_output))"
   ]
  },
  {
   "cell_type": "code",
   "execution_count": 6,
   "metadata": {},
   "outputs": [],
   "source": [
    "def train(model, x, y, learning_rate):\n",
    "    with tf.GradientTape() as gt:\n",
    "        y_output = model(x)\n",
    "        loss = calculate_loss(y, y_output)\n",
    " \n",
    "    new_weight, new_bias = gt.gradient(loss, [model.weight, model.bias])\n",
    "    model.weight.assign_sub(new_weight * learning_rate)\n",
    "    model.bias.assign_sub(new_bias * learning_rate)"
   ]
  },
  {
   "cell_type": "code",
   "execution_count": 8,
   "metadata": {},
   "outputs": [
    {
     "name": "stdout",
     "output_type": "stream",
     "text": [
      "Epoch: 0, loss: 724.413818359375\n",
      "Epoch: 1, loss: 514.4773559570312\n",
      "Epoch: 2, loss: 365.6416015625\n",
      "Epoch: 3, loss: 260.10101318359375\n",
      "Epoch: 4, loss: 185.2417755126953\n",
      "Epoch: 5, loss: 132.1275634765625\n",
      "Epoch: 6, loss: 94.42703247070312\n",
      "Epoch: 7, loss: 67.6542739868164\n",
      "Epoch: 8, loss: 48.630531311035156\n",
      "Epoch: 9, loss: 35.103214263916016\n",
      "Epoch: 10, loss: 25.475793838500977\n",
      "Epoch: 11, loss: 18.616561889648438\n",
      "Epoch: 12, loss: 13.72320556640625\n",
      "Epoch: 13, loss: 10.226766586303711\n",
      "Epoch: 14, loss: 7.723680019378662\n",
      "Epoch: 15, loss: 5.927593231201172\n",
      "Epoch: 16, loss: 4.635250091552734\n",
      "Epoch: 17, loss: 3.702303409576416\n",
      "Epoch: 18, loss: 3.0261754989624023\n",
      "Epoch: 19, loss: 2.5339195728302\n",
      "Epoch: 20, loss: 2.1736183166503906\n",
      "Epoch: 21, loss: 1.9082757234573364\n",
      "Epoch: 22, loss: 1.711495041847229\n",
      "Epoch: 23, loss: 1.5644129514694214\n",
      "Epoch: 24, loss: 1.4535223245620728\n",
      "Epoch: 25, loss: 1.3691290616989136\n",
      "Epoch: 26, loss: 1.304255485534668\n",
      "Epoch: 27, loss: 1.253862738609314\n",
      "Epoch: 28, loss: 1.2142982482910156\n",
      "Epoch: 29, loss: 1.1829006671905518\n",
      "Epoch: 30, loss: 1.1577212810516357\n",
      "Epoch: 31, loss: 1.1373246908187866\n",
      "Epoch: 32, loss: 1.120644450187683\n",
      "Epoch: 33, loss: 1.1068840026855469\n",
      "Epoch: 34, loss: 1.0954415798187256\n",
      "Epoch: 35, loss: 1.085858941078186\n",
      "Epoch: 36, loss: 1.0777838230133057\n",
      "Epoch: 37, loss: 1.0709418058395386\n",
      "Epoch: 38, loss: 1.065117359161377\n",
      "Epoch: 39, loss: 1.0601394176483154\n",
      "Epoch: 40, loss: 1.055870771408081\n",
      "Epoch: 41, loss: 1.052200198173523\n",
      "Epoch: 42, loss: 1.0490357875823975\n",
      "Epoch: 43, loss: 1.0463029146194458\n",
      "Epoch: 44, loss: 1.0439388751983643\n",
      "Epoch: 45, loss: 1.0418909788131714\n",
      "Epoch: 46, loss: 1.040115237236023\n",
      "Epoch: 47, loss: 1.0385737419128418\n",
      "Epoch: 48, loss: 1.0372347831726074\n",
      "Epoch: 49, loss: 1.0360710620880127\n",
      "Epoch: 50, loss: 1.0350590944290161\n",
      "Epoch: 51, loss: 1.0341789722442627\n",
      "Epoch: 52, loss: 1.0334128141403198\n",
      "Epoch: 53, loss: 1.0327460765838623\n",
      "Epoch: 54, loss: 1.0321656465530396\n",
      "Epoch: 55, loss: 1.0316600799560547\n",
      "Epoch: 56, loss: 1.0312198400497437\n",
      "Epoch: 57, loss: 1.0308363437652588\n",
      "Epoch: 58, loss: 1.030502200126648\n",
      "Epoch: 59, loss: 1.0302112102508545\n",
      "Epoch: 60, loss: 1.02995765209198\n",
      "Epoch: 61, loss: 1.0297367572784424\n",
      "Epoch: 62, loss: 1.0295443534851074\n",
      "Epoch: 63, loss: 1.0293766260147095\n",
      "Epoch: 64, loss: 1.0292304754257202\n",
      "Epoch: 65, loss: 1.02910315990448\n",
      "Epoch: 66, loss: 1.0289921760559082\n",
      "Epoch: 67, loss: 1.028895378112793\n",
      "Epoch: 68, loss: 1.0288112163543701\n",
      "Epoch: 69, loss: 1.0287377834320068\n",
      "Epoch: 70, loss: 1.0286738872528076\n",
      "Epoch: 71, loss: 1.0286180973052979\n",
      "Epoch: 72, loss: 1.0285694599151611\n",
      "Epoch: 73, loss: 1.028527021408081\n",
      "Epoch: 74, loss: 1.0284901857376099\n",
      "Epoch: 75, loss: 1.0284581184387207\n",
      "Epoch: 76, loss: 1.0284299850463867\n",
      "Epoch: 77, loss: 1.0284056663513184\n",
      "Epoch: 78, loss: 1.0283842086791992\n",
      "Epoch: 79, loss: 1.0283657312393188\n",
      "Epoch: 80, loss: 1.0283496379852295\n",
      "Epoch: 81, loss: 1.0283355712890625\n",
      "Epoch: 82, loss: 1.0283230543136597\n",
      "Epoch: 83, loss: 1.0283125638961792\n",
      "Epoch: 84, loss: 1.0283032655715942\n",
      "Epoch: 85, loss: 1.0282950401306152\n",
      "Epoch: 86, loss: 1.0282880067825317\n",
      "Epoch: 87, loss: 1.028281807899475\n",
      "Epoch: 88, loss: 1.0282765626907349\n",
      "Epoch: 89, loss: 1.0282716751098633\n",
      "Epoch: 90, loss: 1.0282676219940186\n",
      "Epoch: 91, loss: 1.0282641649246216\n",
      "Epoch: 92, loss: 1.0282610654830933\n",
      "Epoch: 93, loss: 1.0282583236694336\n",
      "Epoch: 94, loss: 1.0282559394836426\n",
      "Epoch: 95, loss: 1.0282539129257202\n",
      "Epoch: 96, loss: 1.028252124786377\n",
      "Epoch: 97, loss: 1.0282504558563232\n",
      "Epoch: 98, loss: 1.0282492637634277\n",
      "Epoch: 99, loss: 1.0282479524612427\n"
     ]
    }
   ],
   "source": [
    "model = Model()\n",
    "epochs = 100\n",
    "learning_rate = 0.15\n",
    "\n",
    "for epoch in range(epochs):\n",
    "    y_output = model(x)\n",
    "    loss = calculate_loss(y, y_output)\n",
    "    print(f\"Epoch: {epoch}, loss: {loss.numpy()}\")\n",
    "    train(model, x, y, learning_rate)"
   ]
  },
  {
   "cell_type": "code",
   "execution_count": 9,
   "metadata": {},
   "outputs": [
    {
     "name": "stdout",
     "output_type": "stream",
     "text": [
      "1.9079177 0.9988706\n"
     ]
    }
   ],
   "source": [
    "print(model.weight.numpy(), model.bias.numpy())"
   ]
  },
  {
   "cell_type": "code",
   "execution_count": 11,
   "metadata": {},
   "outputs": [
    {
     "data": {
      "text/plain": [
       "<matplotlib.collections.PathCollection at 0xb40a64940>"
      ]
     },
     "execution_count": 11,
     "metadata": {},
     "output_type": "execute_result"
    },
    {
     "data": {
      "image/png": "[encoded data removed]",
      "text/plain": [
       "<Figure size 432x288 with 1 Axes>"
      ]
     },
     "metadata": {
      "needs_background": "light"
     },
     "output_type": "display_data"
    }
   ],
   "source": [
    "new_y = model.weight.numpy()*x + model.bias.numpy()\n",
    "plt.scatter(x, new_y)\n",
    "plt.scatter(x, y)\n"
   ]
  },
  {
   "cell_type": "code",
   "execution_count": null,
   "metadata": {},
   "outputs": [],
   "source": []
  }
 ],
 "metadata": {
  "kernelspec": {
   "display_name": "Python 3",
   "language": "python",
   "name": "python3"
  },
  "language_info": {
   "codemirror_mode": {
    "name": "ipython",
    "version": 3
   },
   "file_extension": ".py",
   "mimetype": "text/x-python",
   "name": "python",
   "nbconvert_exporter": "python",
   "pygments_lexer": "ipython3",
   "version": "3.7.3"
  }
 },
 "nbformat": 4,
 "nbformat_minor": 2
}
