{
 "cells": [
  {
   "cell_type": "code",
   "execution_count": 100,
   "metadata": {},
   "outputs": [],
   "source": [
    "%matplotlib inline\n",
    "%reload_ext autoreload\n",
    "%autoreload 2\n",
    "\n",
    "import numpy as np\n",
    "import matplotlib.pyplot as plt\n",
    "import pandas as pd\n",
    "from classifier import train_one_vs_all, predict_one_vs_all\n",
    "from logistic_regression import logistic, nll_cost_function, gradient_descent"
   ]
  },
  {
   "cell_type": "code",
   "execution_count": 101,
   "metadata": {},
   "outputs": [],
   "source": [
    "np_data = pd.read_csv('BLCA.csv',keep_default_na=False, sep=';',header=None, encoding = \"utf-8\").values\n",
    "\n",
    "# age \n",
    "age = np_data[:,2].astype(int)\n",
    "\n",
    "# gender\n",
    "gender = np_data[:,3]\n",
    "gender = np.array([l == 'FEMALE' for l in gender]).astype('int') #0 man, 1 woman\n",
    "\n",
    "# ajcc_pathologic_tumor_stage\n",
    "tumor_stage = np_data[:,4]\n",
    "tumor_stage = np.where(tumor_stage==\"Stage I\", 0, tumor_stage)\n",
    "tumor_stage = np.where(tumor_stage==\"Stage II\", 1, tumor_stage)\n",
    "tumor_stage = np.where(tumor_stage==\"Stage III\", 2, tumor_stage)\n",
    "tumor_stage = np.where(tumor_stage==\"Stage IV\", 3, tumor_stage)\n",
    "\n",
    "# histological_type\n",
    "histological_type = np_data[:,5] # ignore, they are all the same\n",
    "\n",
    "# histological_grade\n",
    "histological_grade = np_data[:,6] # ignore, they are all the same\n",
    "\n",
    "# initial_pathologic_dx_year\n",
    "initial_pathologic_dx_year = np_data[:,7].astype(int)\n",
    "\n",
    "# vital_status\n",
    "vital_status = np_data[:,8]\n",
    "vital_status = np.array([l == 'Alive' for l in vital_status]).astype('int') #0 Dead, 1 Alive\n",
    "\n",
    "# tumor_status\n",
    "tumor_status = np_data[:,9] \n",
    "tumor_status = np.array([l == 'WITH TUMOR' for l in tumor_status]).astype('int') #0 no tum, 1 with tum\n",
    "\n",
    "# death_days_to\n",
    "death_days_to = np_data[:, 10] \n",
    "\n",
    "# new_tumor_event_type\n",
    "new_tumor_event_type = np_data[:,11] # N/A - 0, other - 1\n",
    "new_tumor_event_type = np.array([l != '#N/A' for l in new_tumor_event_type]).astype('int') #0 no tum, 1 with tum\n",
    "\n",
    "# new_tumor_event_site\n",
    "new_tumor_event_site = np_data[:,12]\n",
    "new_tumor_event_site = np.array([l != '#N/A' for l in new_tumor_event_site]).astype('int') #0 no tum, 1 with tum\n",
    "\n",
    "#new_tumor_event_site_other\n",
    "\n",
    "#new_tumor_event_dx_days_to\n",
    "new_tumor_event_dx_days_to = np_data[:,14]\n",
    "new_tumor_event_dx_days_to = np.where(new_tumor_event_dx_days_to==\"#N/A\", 0 , new_tumor_event_dx_days_to).astype(int)\n",
    "\n",
    "\n",
    "#treatment_outcome_first_course\n",
    "outcome = np_data[:,15];\n",
    "outcome = np.where(outcome==\"Complete Remission/Response\", 0, outcome)\n",
    "outcome = np.where(outcome==\"Partial Remission/Response\", 3, outcome)\n",
    "outcome = np.where(outcome==\"Progressive Disease\", 2, outcome)\n",
    "outcome = np.where(outcome==\"Stable Disease\", 1, outcome)\n",
    "\n",
    "m = np_data.shape[0]\n",
    "X = np.stack([np.ones(m), age, gender, tumor_stage, initial_pathologic_dx_year, tumor_status, new_tumor_event_type,new_tumor_event_site, new_tumor_event_dx_days_to], axis=1).astype(int)\n",
    "n = X.shape[1]\n"
   ]
  },
  {
   "cell_type": "code",
   "execution_count": 103,
   "metadata": {},
   "outputs": [
    {
     "name": "stdout",
     "output_type": "stream",
     "text": [
      "accuracy: 58.18 %\n"
     ]
    }
   ],
   "source": [
    "theta = np.ones(n)\n",
    "iters = 200\n",
    "y = vital_status\n",
    "\n",
    "theta, J = gradient_descent(X, y, theta, 0.0000001, iters)\n",
    "# print(J[-20:-1])\n",
    "\n",
    "y_predict = np.zeros(len(y))\n",
    "correct_pred = 0\n",
    "result = logistic(np.dot(X,theta))\n",
    "y_predict =  np.where(result < 0.5, 0, result)\n",
    "y_predict =  np.where(y_predict >= 0.5, 1, y_predict)\n",
    "\n",
    "for i in range(len(y)):\n",
    "    if  y_predict[i] == y[i]:\n",
    "        correct_pred+=1\n",
    "\n",
    "print(\"accuracy:\", np.around(correct_pred/len(y)*100,2),\"%\")"
   ]
  },
  {
   "cell_type": "code",
   "execution_count": 104,
   "metadata": {},
   "outputs": [],
   "source": [
    "# choose only dead ones \n",
    "dead = np.nonzero(vital_status == 0)[0] # indices of dead people\n",
    "np.random.shuffle(dead)\n",
    "y = death_days_to[dead].astype('int') # get all y's\n",
    "X = np.stack([np.ones(m), age, gender, tumor_stage, initial_pathologic_dx_year, tumor_status, new_tumor_event_type,new_tumor_event_site, new_tumor_event_dx_days_to], axis=1).astype(int)\n",
    "X = X[dead, :]\n",
    "\n",
    "numTrain    = 107\n",
    "numTest     = 26\n",
    "\n",
    "train = np.arange(numTrain)\n",
    "test  = numTrain + np.arange(numTest)\n",
    "\n",
    "X_train = X[train,:]\n",
    "y_train = y[train]\n",
    "\n",
    "X_test  = X[test,:]\n",
    "y_test  = y[test]\n",
    "\n"
   ]
  },
  {
   "cell_type": "code",
   "execution_count": 105,
   "metadata": {},
   "outputs": [],
   "source": [
    "# regression\n",
    "def gradient_descent( X, y, alpha, iters, theta=None ):\n",
    "\n",
    "    m,n = X.shape\n",
    "    \n",
    "    if theta is None:\n",
    "        theta = np.ones(n)\n",
    "    \n",
    "    J_history = np.ones(iters)\n",
    "\n",
    "    for i in range(0, iters):\n",
    "        \n",
    "        theta = theta - np.dot(alpha*X.T, np.dot(X, theta) - y)\n",
    "        J_history[i] = cost_function(X, y, theta)\n",
    "    \n",
    "    return theta, J_history\n",
    "\n",
    "def cost_function(X, y, theta):  \n",
    "    cost = 0\n",
    "    diff = (np.dot(X,theta)-y).T\n",
    "    diff = np.where(abs(diff) < 30, 0, diff)\n",
    "    cost = 0.5*np.dot(diff, diff)\n",
    "    return cost\n",
    "\n",
    "def normalize( M ):\n",
    "    norm_M = M.copy()\n",
    "    mean = np.mean(M[:, 1:].copy(), axis = 0)\n",
    "    std = np.array(np.std(M[:, 1:].copy(), axis = 0))\n",
    "    norm_M[:,1:] = np.divide(np.subtract(norm_M[:,1:], mean), std)\n",
    "    return norm_M"
   ]
  },
  {
   "cell_type": "code",
   "execution_count": 106,
   "metadata": {},
   "outputs": [
    {
     "name": "stdout",
     "output_type": "stream",
     "text": [
      "Cost function: 6260606.56\n",
      "[9614664.6000625  8216562.6741089  7568788.00528833 ... 6260606.55859111\n",
      " 6260606.55859111 6260606.55859111]\n"
     ]
    }
   ],
   "source": [
    "theta_vec_equations, cost = gradient_descent(normalize(X_train), y_train, 0.005, 40000)\n",
    "print (\"Cost function: %.2f\" % cost[-1])\n",
    "print(cost)"
   ]
  },
  {
   "cell_type": "code",
   "execution_count": 107,
   "metadata": {},
   "outputs": [],
   "source": [
    "'''\n",
    "    Classification by the outcome\n",
    "    \n",
    "''' \n",
    "\n",
    "X = np.stack([np.ones(m), age, gender, tumor_stage, initial_pathologic_dx_year, tumor_status, new_tumor_event_type,new_tumor_event_site, new_tumor_event_dx_days_to], axis=1).astype(int)\n",
    "y = outcome\n",
    "numClasses = 3\n",
    "numTrain = 99 \n",
    "numTest = 24\n",
    "\n",
    "class_1 = np.nonzero(y == 0)[0]   \n",
    "class_2 = np.nonzero(y == 1)[0]   \n",
    "class_3 = np.nonzero(y == 2)[0]   \n",
    "class_4 = np.nonzero(y == 3)[0]   # ignoring this one\n",
    "nlen = len(class_2)\n",
    "subset = np.concatenate([class_1[0:len(class_2)], class_2, class_3])\n",
    "np.random.shuffle(subset)\n",
    "X = X[subset,:]\n",
    "y = y[subset]\n",
    "\n",
    "# Split into test and train\n",
    "train = np.arange(numTrain)\n",
    "test  = numTrain + np.arange(numTest)\n",
    "\n",
    "X_train = X[train,:]\n",
    "y_train = y[train]\n",
    "\n",
    "X_test  = X[test,:]\n",
    "y_test  = y[test]\n",
    "\n"
   ]
  },
  {
   "cell_type": "code",
   "execution_count": 113,
   "metadata": {},
   "outputs": [
    {
     "name": "stdout",
     "output_type": "stream",
     "text": [
      "Training Set Accuracy: 58.585859\n",
      "    Test Set Accuracy: 54.166667\n",
      "Lambda: 0.000010 Training Set Accuracy: 77.777778\n",
      "Lambda: 0.000010 Test Set Accuracy: 66.666667\n",
      "Lambda: 0.000100 Training Set Accuracy: 75.757576\n",
      "Lambda: 0.000100 Test Set Accuracy: 66.666667\n",
      "Lambda: 0.001000 Training Set Accuracy: 77.777778\n",
      "Lambda: 0.001000 Test Set Accuracy: 66.666667\n",
      "Lambda: 0.010000 Training Set Accuracy: 75.757576\n",
      "Lambda: 0.010000 Test Set Accuracy: 66.666667\n",
      "Lambda: 0.100000 Training Set Accuracy: 75.757576\n",
      "Lambda: 0.100000 Test Set Accuracy: 66.666667\n",
      "Lambda: 1.000000 Training Set Accuracy: 76.767677\n",
      "Lambda: 1.000000 Test Set Accuracy: 62.500000\n",
      "Lambda: 10.000000 Training Set Accuracy: 72.727273\n",
      "Lambda: 10.000000 Test Set Accuracy: 66.666667\n",
      "Lambda: 100.000000 Training Set Accuracy: 58.585859\n",
      "Lambda: 100.000000 Test Set Accuracy: 54.166667\n",
      "Lambda: 1000.000000 Training Set Accuracy: 50.505051\n",
      "Lambda: 1000.000000 Test Set Accuracy: 58.333333\n",
      "Lambda: 10000.000000 Training Set Accuracy: 50.505051\n",
      "Lambda: 10000.000000 Test Set Accuracy: 58.333333\n",
      "Lambda: 100000.000000 Training Set Accuracy: 50.505051\n",
      "Lambda: 100000.000000 Test Set Accuracy: 58.333333\n"
     ]
    }
   ],
   "source": [
    "lambda_val = 100\n",
    "weight_vectors, intercepts = train_one_vs_all(X_train, y_train, 3, lambda_val)\n",
    "pred_train = predict_one_vs_all(X_train, weight_vectors, intercepts)\n",
    "pred_test  = predict_one_vs_all(X_test,  weight_vectors, intercepts)\n",
    "print(\"Training Set Accuracy: %f\" % (np.mean(pred_train == y_train) * 100))\n",
    "print(\"    Test Set Accuracy: %f\" % (np.mean( pred_test == y_test) * 100))\n",
    "\n",
    "lambda_vals = 10.0 ** np.linspace(-5,5,11)\n",
    "num_classes = 10\n",
    "\n",
    "test_acc = np.zeros(lambda_vals.size)\n",
    "train_acc = np.zeros(lambda_vals.size)\n",
    "\n",
    "for i in range(lambda_vals.size): \n",
    "    weight_vectors, intercepts = train_one_vs_all(X_train, y_train, 3, lambda_vals[i])\n",
    "    pred_train = predict_one_vs_all(X_train, weight_vectors, intercepts)\n",
    "    pred_test  = predict_one_vs_all(X_test,  weight_vectors, intercepts)\n",
    "\n",
    "    print(\"Lambda: %f\" % lambda_vals[i], \"Training Set Accuracy: %f\" % (np.mean(pred_train == y_train) * 100))\n",
    "    print(\"Lambda: %f\" %  lambda_vals[i] , \"Test Set Accuracy: %f\" % (np.mean( pred_test == y_test) * 100))\n",
    "    train_acc[i] = np.mean(pred_train == y_train) * 100\n",
    "    test_acc[i] = np.mean( pred_test == y_test) * 100\n",
    "    \n",
    "    "
   ]
  },
  {
   "cell_type": "code",
   "execution_count": 114,
   "metadata": {},
   "outputs": [
    {
     "data": {
      "image/png": "[encoded data removed]",
      "text/plain": [
       "<Figure size 432x288 with 1 Axes>"
      ]
     },
     "metadata": {
      "needs_background": "light"
     },
     "output_type": "display_data"
    }
   ],
   "source": [
    "plt.xlabel('lambda (log10)')\n",
    "plt.ylabel('accuracy')\n",
    "plt.xscale('log')\n",
    "plt.plot(lambda_vals, train_acc, 'bo', linestyle='dashed')\n",
    "plt.plot(lambda_vals, test_acc, 'go', linestyle='dashed')\n",
    "plt.legend(('train', 'test')) #if you use this legend, make sure you plot the training data first and then the test data\n",
    "plt.show()\n"
   ]
  },
  {
   "cell_type": "code",
   "execution_count": null,
   "metadata": {},
   "outputs": [],
   "source": []
  }
 ],
 "metadata": {
  "kernelspec": {
   "display_name": "Python 3",
   "language": "python",
   "name": "python3"
  },
  "language_info": {
   "codemirror_mode": {
    "name": "ipython",
    "version": 3
   },
   "file_extension": ".py",
   "mimetype": "text/x-python",
   "name": "python",
   "nbconvert_exporter": "python",
   "pygments_lexer": "ipython3",
   "version": "3.7.3"
  }
 },
 "nbformat": 4,
 "nbformat_minor": 2
}
